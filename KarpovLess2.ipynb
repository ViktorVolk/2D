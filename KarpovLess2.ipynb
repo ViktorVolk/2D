{
  "nbformat": 4,
  "nbformat_minor": 0,
  "metadata": {
    "colab": {
      "provenance": [],
      "authorship_tag": "ABX9TyMa3qC3vBz2Cx/fMkoZkJxo",
      "include_colab_link": true
    },
    "kernelspec": {
      "name": "python3",
      "display_name": "Python 3"
    },
    "language_info": {
      "name": "python"
    }
  },
  "cells": [
    {
      "cell_type": "markdown",
      "metadata": {
        "id": "view-in-github",
        "colab_type": "text"
      },
      "source": [
        "<a href=\"https://colab.research.google.com/github/ViktorVolk/2D/blob/main/KarpovLess2.ipynb\" target=\"_parent\"><img src=\"https://colab.research.google.com/assets/colab-badge.svg\" alt=\"Open In Colab\"/></a>"
      ]
    },
    {
      "cell_type": "markdown",
      "source": [
        "**Задание 1**\n",
        "Cделайте train/test split на данных в пропорции 0.8/0.2. Отправьте в чекер код, который в df_train, df_test сохранит датафрейм с тренировочными и тестовыми данными соответственно.\n",
        "\n",
        "Использовать train_test_split из scikit-learn запрещено — разбивайте вручную через индексы."
      ],
      "metadata": {
        "id": "ND0neAWhYGKr"
      }
    },
    {
      "cell_type": "code",
      "execution_count": 1,
      "metadata": {
        "colab": {
          "base_uri": "https://localhost:8080/",
          "height": 211
        },
        "id": "im6kMBdOXWx_",
        "outputId": "8003f075-83f3-49b8-f25f-f032a70e0f07"
      },
      "outputs": [
        {
          "output_type": "error",
          "ename": "NameError",
          "evalue": "name 'df' is not defined",
          "traceback": [
            "\u001b[0;31m---------------------------------------------------------------------------\u001b[0m",
            "\u001b[0;31mNameError\u001b[0m                                 Traceback (most recent call last)",
            "\u001b[0;32m/tmp/ipython-input-1-3465209949.py\u001b[0m in \u001b[0;36m<cell line: 0>\u001b[0;34m()\u001b[0m\n\u001b[1;32m      6\u001b[0m \u001b[0;34m\u001b[0m\u001b[0m\n\u001b[1;32m      7\u001b[0m \u001b[0;31m# Создаём массив индексов и перемешиваем их\u001b[0m\u001b[0;34m\u001b[0m\u001b[0;34m\u001b[0m\u001b[0m\n\u001b[0;32m----> 8\u001b[0;31m \u001b[0mindices\u001b[0m \u001b[0;34m=\u001b[0m \u001b[0mnp\u001b[0m\u001b[0;34m.\u001b[0m\u001b[0marange\u001b[0m\u001b[0;34m(\u001b[0m\u001b[0mlen\u001b[0m\u001b[0;34m(\u001b[0m\u001b[0mdf\u001b[0m\u001b[0;34m)\u001b[0m\u001b[0;34m)\u001b[0m\u001b[0;34m\u001b[0m\u001b[0;34m\u001b[0m\u001b[0m\n\u001b[0m\u001b[1;32m      9\u001b[0m \u001b[0mnp\u001b[0m\u001b[0;34m.\u001b[0m\u001b[0mrandom\u001b[0m\u001b[0;34m.\u001b[0m\u001b[0mshuffle\u001b[0m\u001b[0;34m(\u001b[0m\u001b[0mindices\u001b[0m\u001b[0;34m)\u001b[0m\u001b[0;34m\u001b[0m\u001b[0;34m\u001b[0m\u001b[0m\n\u001b[1;32m     10\u001b[0m \u001b[0;34m\u001b[0m\u001b[0m\n",
            "\u001b[0;31mNameError\u001b[0m: name 'df' is not defined"
          ]
        }
      ],
      "source": [
        "import pandas as pd\n",
        "import numpy as np\n",
        "\n",
        "# Предполагаем, что исходный датафрейм называется df\n",
        "# Если он ещё не загружен, нужно сначала загрузить данные\n",
        "\n",
        "# Создаём массив индексов и перемешиваем их\n",
        "indices = np.arange(len(df))\n",
        "np.random.shuffle(indices)\n",
        "\n",
        "# Вычисляем границу разделения\n",
        "split_idx = int(0.8 * len(df))\n",
        "\n",
        "# Разделяем индексы на тренировочные и тестовые\n",
        "train_indices = indices[:split_idx]\n",
        "test_indices = indices[split_idx:]\n",
        "\n",
        "# Создаём тренировочный и тестовый датафреймы\n",
        "df_train = df.iloc[train_indices]\n",
        "df_test = df.iloc[test_indices]"
      ]
    },
    {
      "cell_type": "markdown",
      "source": [],
      "metadata": {
        "id": "VAtmLNhYYhf9"
      }
    },
    {
      "cell_type": "markdown",
      "source": [
        "**Задание 2.**\n",
        "Выполните one-hot кодирование для категориальных признаков sex, region, smoker как в обучающем (df_train), так и в тестовом (df_test) датасетах.\n",
        "\n",
        "После кодирования указанные признаки должны быть заменены на соответствующие бинарные столбцы. Остальные признаки датафреймов должны остаться без изменений.\n"
      ],
      "metadata": {
        "id": "2sG2_OjDZ46N"
      }
    },
    {
      "cell_type": "code",
      "source": [
        "# Категориальные признаки для one-hot кодирования\n",
        "cat_cols = ['sex', 'region', 'smoker']\n",
        "\n",
        "# Применяем pd.get_dummies() к обучающему датасету\n",
        "df_train = pd.get_dummies(df_train, columns=cat_cols, dtype=int)\n",
        "\n",
        "# Применяем pd.get_dummies() к тестовому датасету\n",
        "df_test = pd.get_dummies(df_test, columns=cat_cols, dtype=int)"
      ],
      "metadata": {
        "id": "_w43mZHSZ6dh"
      },
      "execution_count": null,
      "outputs": []
    }
  ]
}